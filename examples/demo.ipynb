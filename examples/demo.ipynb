{
 "cells": [
  {
   "cell_type": "code",
   "execution_count": 1,
   "metadata": {},
   "outputs": [],
   "source": [
    "from zoteroapi import ZoteroLocal\n",
    "from typing import Dict, List\n",
    "from pprint import pprint"
   ]
  },
  {
   "cell_type": "code",
   "execution_count": 2,
   "metadata": {},
   "outputs": [],
   "source": [
    "client = ZoteroLocal()\n",
    "term = \"10.1016/j.celrep.2023.112995\"\n",
    "search_items_results = client.search_items(term)"
   ]
  },
  {
   "cell_type": "code",
   "execution_count": 3,
   "metadata": {},
   "outputs": [],
   "source": [
    "search_items_results = client.search_by_doi(\"10.1016/j.celrep.2023.112995\")"
   ]
  },
  {
   "cell_type": "code",
   "execution_count": 4,
   "metadata": {},
   "outputs": [
    {
     "data": {
      "text/plain": [
       "[{'key': 'FGRNL3NY',\n",
       "  'version': 364,\n",
       "  'library': {'type': 'user',\n",
       "   'id': 14810854,\n",
       "   'name': 'My Library',\n",
       "   'links': {'self': {'href': 'http://localhost:23119/api/users/14810854',\n",
       "     'type': 'application/json'},\n",
       "    'alternate': {'href': 'https://www.zotero.org/users/14810854',\n",
       "     'type': 'text/html'}}},\n",
       "  'links': {'self': {'href': 'http://localhost:23119/api/users/14810854/items/FGRNL3NY',\n",
       "    'type': 'application/json'},\n",
       "   'alternate': {'href': 'https://www.zotero.org/users/14810854/items/FGRNL3NY',\n",
       "    'type': 'text/html'},\n",
       "   'attachment': {'href': 'http://localhost:23119/api/users/14810854/items/2JGJN6ZA',\n",
       "    'type': 'application/json',\n",
       "    'attachmentType': 'application/pdf',\n",
       "    'attachmentSize': 3539517}},\n",
       "  'meta': {'creatorSummary': 'Froberg et al.',\n",
       "   'parsedDate': '2023-09-26',\n",
       "   'numChildren': 1},\n",
       "  'data': {'key': 'FGRNL3NY',\n",
       "   'version': 364,\n",
       "   'itemType': 'journalArticle',\n",
       "   'title': 'Development of nanoRibo-seq enables study of regulated\\xa0translation by cortical neuron subtypes, showing uORF translation in synaptic-axonal genes.',\n",
       "   'abstractNote': 'Investigation of translation in rare cell types or subcellular contexts is challenging due to large input requirements for standard approaches. Here, we  present \"nanoRibo-seq\" an optimized approach using 10(2)- to 10(3)-fold less  input material than bulk approaches. nanoRibo-seq exhibits rigorous quality  control features consistent with quantification of ribosome protected fragments  with as few as 1,000 cells. We compare translatomes of two closely related  cortical neuron subtypes, callosal projection neurons (CPN) and subcerebral  projection neurons (SCPN), during their early postnatal development. We find  that, while translational efficiency is highly correlated between CPN and SCPN,  several dozen mRNAs are differentially translated. We further examine upstream  open reading frame (uORF) translation and identify that mRNAs involved in synapse  organization and axon development are highly enriched for uORF translation in  both subtypes. nanoRibo-seq enables investigation of translational regulation of  rare cell types in\\xa0vivo and offers a flexible approach for globally quantifying  translation from limited input material.',\n",
       "   'date': '2023 Sep 26',\n",
       "   'language': 'eng',\n",
       "   'rights': 'Copyright © 2023 The Author(s). Published by Elsevier Inc. All rights reserved.',\n",
       "   'extra': 'Place: United States\\nPMID: 37624698 \\nPMCID: PMC10591829\\nTLDR: NanoRibo-seq enables investigation of translational regulation of rare cell types in vivo and offers a flexible approach for globally quantifying translation from limited input material.',\n",
       "   'volume': '42',\n",
       "   'pages': '112995',\n",
       "   'publicationTitle': 'Cell reports',\n",
       "   'DOI': '10.1016/j.celrep.2023.112995',\n",
       "   'issue': '9',\n",
       "   'journalAbbreviation': 'Cell Rep',\n",
       "   'ISSN': '2211-1247',\n",
       "   'creators': [{'firstName': 'John E.',\n",
       "     'lastName': 'Froberg',\n",
       "     'creatorType': 'author'},\n",
       "    {'firstName': 'Omer', 'lastName': 'Durak', 'creatorType': 'author'},\n",
       "    {'firstName': 'Jeffrey D.',\n",
       "     'lastName': 'Macklis',\n",
       "     'creatorType': 'author'}],\n",
       "   'tags': [{'tag': 'Open Reading Frames/genetics'},\n",
       "    {'tag': 'translational regulation'},\n",
       "    {'tag': 'ribosome'},\n",
       "    {'tag': '*Axons/metabolism'},\n",
       "    {'tag': '*Neurons/metabolism'},\n",
       "    {'tag': 'callosal projection neurons'},\n",
       "    {'tag': 'Corpus Callosum/metabolism'},\n",
       "    {'tag': 'cortical development'},\n",
       "    {'tag': 'CP: Neuroscience'},\n",
       "    {'tag': 'molecular controls over neuronal diversity'},\n",
       "    {'tag': 'mRNA translation'},\n",
       "    {'tag': 'Protein Biosynthesis'},\n",
       "    {'tag': 'Ribo-seq'},\n",
       "    {'tag': 'ribosome profiling'},\n",
       "    {'tag': 'Ribosomes/genetics/metabolism'},\n",
       "    {'tag': 'RNA, Messenger/genetics/metabolism'},\n",
       "    {'tag': 'subcerebral projection neurons'},\n",
       "    {'tag': 'upstream open reading frame (uORF)'}],\n",
       "   'collections': ['L4AIA46Z'],\n",
       "   'relations': {},\n",
       "   'dateAdded': '2024-08-15T08:06:11Z',\n",
       "   'dateModified': '2024-11-19T10:57:25Z'}}]"
      ]
     },
     "execution_count": 4,
     "metadata": {},
     "output_type": "execute_result"
    }
   ],
   "source": [
    "search_items_results"
   ]
  },
  {
   "cell_type": "markdown",
   "metadata": {},
   "source": [
    "search_items_results = client.search_by_doi(\"10.1016/j.celrep.2023.112995\")"
   ]
  },
  {
   "cell_type": "code",
   "execution_count": 12,
   "metadata": {},
   "outputs": [],
   "source": [
    "item_keys = []\n",
    "for iterm in search_items_results:\n",
    "    item_key = iterm.get('key')\n",
    "    item_keys.append(item_key)\n"
   ]
  },
  {
   "cell_type": "code",
   "execution_count": 11,
   "metadata": {},
   "outputs": [
    {
     "data": {
      "text/plain": [
       "'Place: United States\\nPMID: 37624698 \\nPMCID: PMC10591829\\nTLDR: NanoRibo-seq enables investigation of translational regulation of rare cell types in vivo and offers a flexible approach for globally quantifying translation from limited input material.'"
      ]
     },
     "execution_count": 11,
     "metadata": {},
     "output_type": "execute_result"
    }
   ],
   "source": [
    "search_items_results[0].get('data').get('extra')"
   ]
  },
  {
   "cell_type": "code",
   "execution_count": 4,
   "metadata": {},
   "outputs": [],
   "source": [
    "href = client.get_item_attachment_href(item_key='M8GF26XB')"
   ]
  },
  {
   "cell_type": "code",
   "execution_count": 5,
   "metadata": {},
   "outputs": [],
   "source": [
    "custom_path = client.copy_attachment_to_downloads(href, download_dir=\"../downloads\")"
   ]
  },
  {
   "cell_type": "code",
   "execution_count": 12,
   "metadata": {},
   "outputs": [
    {
     "name": "stdout",
     "output_type": "stream",
     "text": [
      "37624698\n"
     ]
    }
   ],
   "source": [
    "text = \"\"\"Place: United States\n",
    "PMID: 37624698 \n",
    "PMCID: PMC10591829\n",
    "TLDR: NanoRibo-seq enables investigation of translational regulation of rare cell types in vivo and offers a flexible approach for globally quantifying translation from limited input material.\"\"\"\n",
    "\n",
    "# Using string split and filtering\n",
    "pmid = [line.split(': ')[1].strip() for line in text.split('\\n') if line.startswith('PMID:')][0]\n",
    "print(pmid)  # Output: 37624698"
   ]
  },
  {
   "cell_type": "code",
   "execution_count": 3,
   "metadata": {},
   "outputs": [
    {
     "name": "stdout",
     "output_type": "stream",
     "text": [
      "37624698\n"
     ]
    }
   ],
   "source": [
    "print(client.get_pmid(item_key='FGRNL3NY'))\n"
   ]
  },
  {
   "cell_type": "code",
   "execution_count": 5,
   "metadata": {},
   "outputs": [],
   "source": [
    "search_items_results = client.search_by_pmid('37624698')"
   ]
  },
  {
   "cell_type": "code",
   "execution_count": 6,
   "metadata": {},
   "outputs": [
    {
     "data": {
      "text/plain": [
       "[{'key': 'FGRNL3NY',\n",
       "  'version': 364,\n",
       "  'library': {'type': 'user',\n",
       "   'id': 14810854,\n",
       "   'name': 'My Library',\n",
       "   'links': {'self': {'href': 'http://localhost:23119/api/users/14810854',\n",
       "     'type': 'application/json'},\n",
       "    'alternate': {'href': 'https://www.zotero.org/users/14810854',\n",
       "     'type': 'text/html'}}},\n",
       "  'links': {'self': {'href': 'http://localhost:23119/api/users/14810854/items/FGRNL3NY',\n",
       "    'type': 'application/json'},\n",
       "   'alternate': {'href': 'https://www.zotero.org/users/14810854/items/FGRNL3NY',\n",
       "    'type': 'text/html'},\n",
       "   'attachment': {'href': 'http://localhost:23119/api/users/14810854/items/2JGJN6ZA',\n",
       "    'type': 'application/json',\n",
       "    'attachmentType': 'application/pdf',\n",
       "    'attachmentSize': 3539517}},\n",
       "  'meta': {'creatorSummary': 'Froberg et al.',\n",
       "   'parsedDate': '2023-09-26',\n",
       "   'numChildren': 1},\n",
       "  'data': {'key': 'FGRNL3NY',\n",
       "   'version': 364,\n",
       "   'itemType': 'journalArticle',\n",
       "   'title': 'Development of nanoRibo-seq enables study of regulated\\xa0translation by cortical neuron subtypes, showing uORF translation in synaptic-axonal genes.',\n",
       "   'abstractNote': 'Investigation of translation in rare cell types or subcellular contexts is challenging due to large input requirements for standard approaches. Here, we  present \"nanoRibo-seq\" an optimized approach using 10(2)- to 10(3)-fold less  input material than bulk approaches. nanoRibo-seq exhibits rigorous quality  control features consistent with quantification of ribosome protected fragments  with as few as 1,000 cells. We compare translatomes of two closely related  cortical neuron subtypes, callosal projection neurons (CPN) and subcerebral  projection neurons (SCPN), during their early postnatal development. We find  that, while translational efficiency is highly correlated between CPN and SCPN,  several dozen mRNAs are differentially translated. We further examine upstream  open reading frame (uORF) translation and identify that mRNAs involved in synapse  organization and axon development are highly enriched for uORF translation in  both subtypes. nanoRibo-seq enables investigation of translational regulation of  rare cell types in\\xa0vivo and offers a flexible approach for globally quantifying  translation from limited input material.',\n",
       "   'date': '2023 Sep 26',\n",
       "   'language': 'eng',\n",
       "   'rights': 'Copyright © 2023 The Author(s). Published by Elsevier Inc. All rights reserved.',\n",
       "   'extra': 'Place: United States\\nPMID: 37624698 \\nPMCID: PMC10591829\\nTLDR: NanoRibo-seq enables investigation of translational regulation of rare cell types in vivo and offers a flexible approach for globally quantifying translation from limited input material.',\n",
       "   'volume': '42',\n",
       "   'pages': '112995',\n",
       "   'publicationTitle': 'Cell reports',\n",
       "   'DOI': '10.1016/j.celrep.2023.112995',\n",
       "   'issue': '9',\n",
       "   'journalAbbreviation': 'Cell Rep',\n",
       "   'ISSN': '2211-1247',\n",
       "   'creators': [{'firstName': 'John E.',\n",
       "     'lastName': 'Froberg',\n",
       "     'creatorType': 'author'},\n",
       "    {'firstName': 'Omer', 'lastName': 'Durak', 'creatorType': 'author'},\n",
       "    {'firstName': 'Jeffrey D.',\n",
       "     'lastName': 'Macklis',\n",
       "     'creatorType': 'author'}],\n",
       "   'tags': [{'tag': 'Open Reading Frames/genetics'},\n",
       "    {'tag': 'translational regulation'},\n",
       "    {'tag': 'ribosome'},\n",
       "    {'tag': '*Axons/metabolism'},\n",
       "    {'tag': '*Neurons/metabolism'},\n",
       "    {'tag': 'callosal projection neurons'},\n",
       "    {'tag': 'Corpus Callosum/metabolism'},\n",
       "    {'tag': 'cortical development'},\n",
       "    {'tag': 'CP: Neuroscience'},\n",
       "    {'tag': 'molecular controls over neuronal diversity'},\n",
       "    {'tag': 'mRNA translation'},\n",
       "    {'tag': 'Protein Biosynthesis'},\n",
       "    {'tag': 'Ribo-seq'},\n",
       "    {'tag': 'ribosome profiling'},\n",
       "    {'tag': 'Ribosomes/genetics/metabolism'},\n",
       "    {'tag': 'RNA, Messenger/genetics/metabolism'},\n",
       "    {'tag': 'subcerebral projection neurons'},\n",
       "    {'tag': 'upstream open reading frame (uORF)'}],\n",
       "   'collections': ['L4AIA46Z'],\n",
       "   'relations': {},\n",
       "   'dateAdded': '2024-08-15T08:06:11Z',\n",
       "   'dateModified': '2024-11-19T10:57:25Z'}}]"
      ]
     },
     "execution_count": 6,
     "metadata": {},
     "output_type": "execute_result"
    }
   ],
   "source": [
    "search_items_results"
   ]
  },
  {
   "cell_type": "code",
   "execution_count": null,
   "metadata": {},
   "outputs": [],
   "source": []
  }
 ],
 "metadata": {
  "kernelspec": {
   "display_name": "py311",
   "language": "python",
   "name": "python3"
  },
  "language_info": {
   "codemirror_mode": {
    "name": "ipython",
    "version": 3
   },
   "file_extension": ".py",
   "mimetype": "text/x-python",
   "name": "python",
   "nbconvert_exporter": "python",
   "pygments_lexer": "ipython3",
   "version": "3.11.10"
  }
 },
 "nbformat": 4,
 "nbformat_minor": 2
}
